{
 "cells": [
  {
   "cell_type": "markdown",
   "metadata": {},
   "source": [
    "## In this post , I will explain the origin of Poisson Distribution\n",
    "L Wang\n"
   ]
  },
  {
   "cell_type": "markdown",
   "metadata": {},
   "source": [
    "### An ensemble **r** is a triple [ r, A$_{r}$, p(r) ],  where the outcome $r_{b}$ is the value of a random variable **r**,  which takes a set of possible values,  A$_{r}$ = { $r_{1}, r_{2}, r_{3} \\cdots r_{b} \\cdots  r_{B}  $} and having the probalibites p(r) = { $p_{1}, p_{2}, p_{3} \\cdots p_{b} \\cdots  p_{B} $}, with p(**r** = r$_{b}$) = p$_b$, p$_b \\geq $ 0 and $\\sum_{{r_{b} \\in A_{r} }} p(r = r_{b})$ = 1.\n",
    "\n",
    "\n",
    "\n",
    "\n",
    "If the outcomes of **r** have non-negative integers, A$_{r}$ = {$ 0 , 1, 2, 3, 4, 5 \\cdots $ } and follow a Poisson distribution with parameter $\\lambda (\\lambda$ > 0), it can be expressed as\n",
    "\n",
    "\n",
    "\n",
    "p(r) = $\\frac{e^{-\\lambda} \\lambda^{r}}{r!}$ .\n",
    "\n",
    "\n",
    "Note that r is also explained as the number of arrivals( counts ) or the occupation number , p(r) is the probability of r events would happen or have already happened ."
   ]
  },
  {
   "cell_type": "markdown",
   "metadata": {
    "collapsed": true
   },
   "source": [
    "The poisson distribution can be derived in the following situations.\n",
    "\n",
    "1. Limit of binomial distribution\n",
    "\n",
    "Suppose we have **R** hooks in the sea, for each specific hook, a fish is caught or not is a **Bernoulli distribution**, with a probability $\\boldsymbol{\\rho}$ , we define **r** is the number of hooks which caught fish, this is equivalent to say **r** fish get caught, then **(R-r)** is the number of hooks which didn't catch fish.\n",
    "Since we are not interested in the sequence of the hook or the fish, then there are $\\boldsymbol{\\binom{R}{r}}$ number of ways catching fish, the probability that **r** fish is caught can be described as\n",
    "\n",
    "p($r | R,\\rho$) = $\\binom{R}{r} \\rho^r (1-\\rho)^{R-r}$\n",
    "\n",
    "If we take the limit R $\\gg$ 1, $\\rho$ decreases at the same time such that $\\lambda = R \\rho $ remains constant.\n",
    "\n",
    "\n",
    "p($r | R,\\rho) = \\frac{R!}{r!(R-r)!}(\\frac{\\lambda}{R})^r(1-\\frac{\\lambda}{R})^{R-r}$\n",
    "\n",
    "with $\\lim\\limits_{R\\gg 1}\\frac{R!}{(R-r)!} = \\lim\\limits_{R\\gg 1}R^{\\underline{r}} = R^r  $\n",
    "\n",
    "and $\\lim\\limits_{R\\rightarrow\\infty}(1-\\frac{\\lambda}{R})^{R-r} = \\lim\\limits_{R\\rightarrow\\infty} (1-\\frac{\\lambda}{R})^{R} = e^{-\\lambda}$\n",
    "\n",
    "\n",
    "we obtain the expression of poisson formula\n",
    "p($r | R,\\rho$) =  $\\frac{e^{-\\lambda} \\lambda^{r}}{r!} $ "
   ]
  },
  {
   "cell_type": "markdown",
   "metadata": {},
   "source": [
    "    2. Alternatively, one can derive Poisson distribution through waiting-time distribution.\n",
    "\n",
    "> Reference : Allen Caldwell\n",
    "\n",
    "Suppose that we would like to model the arrivals of events that happen completely at random ( the probability of an event occuring at any time t after starting observations at t = 0  is independent of the probability of another event occuring at any other time t', no matter how small (t'-t) is ), we divide the macroscopic time interval T into N microscopic intervals $\\epsilon$ = T/N, and we assume the rate of arrival is $\\omega$. \n",
    "\n",
    "In an infinitesimal time interval, $[(n-1)\\epsilon, n\\epsilon] , \\forall n, n = 1,2,3 \\cdots $ N. \n",
    "\n",
    "\n",
    "\n",
    "\n",
    "p(r=1|$\\epsilon, \\omega$ ) = $\\omega\\epsilon$ , the probability one event happens in interval $\\epsilon$;\n",
    "p(r=0|$\\epsilon, \\omega$ ) = $ 1- \\omega\\epsilon $, the probability no event happens in interval $\\epsilon$;\n",
    "p(r>1|$\\epsilon, \\omega$ ) = 0, the probability more than one events happen in interval $\\epsilon$.\n",
    "\n",
    "\n",
    "in other words, each of the interval $\\epsilon$ is a Bernoulli process.\n",
    "\n",
    "We know Poisson distribution follows the property of memorylessness, therefore, the probability of no events happen in interval [0,T) is given by\n",
    "\n",
    "\n",
    "p(r = 0|T,$\\omega) = \\prod_{n=1}^{N}p(r=0|\\epsilon, \\omega ) = p(r=0|\\epsilon, \\omega )^{N} = (1-\\omega\\epsilon)^N $\n",
    "\n",
    "\n",
    "\n",
    "In the limit of large N and infinitesimal $\\epsilon$, the no events occure in time interval [0,T) can be reduced to an exponential form.\n",
    "\n",
    "\n",
    "\n",
    "p(r = 0 | T,$\\omega) = \\lim\\limits_{N\\to \\infty}(1-\\omega\\epsilon)^N =  \\lim\\limits_{N\\to \\infty}(1-\\omega T/N)^N = e^{-\\omega T} $\n",
    "\n",
    "\n",
    "\n",
    "The probability that only one event will arrive within time[0,T) is a product of three components: the probability that nothing happens between [0,(n-1)$\\epsilon$),the probability the event occure in $[(n-1)\\epsilon, n\\epsilon)$, and the final interval [$n\\epsilon$, T) with no occurrence.   Since  n $\\in (1,2,3 \\cdots N)$ \n",
    "\n",
    "p(r = 1|T,$\\omega) = \\sum_{n=1}^{N}p(0|[0,(n-1)\\epsilon),\\omega)p(1| [(n-1)\\epsilon, n\\epsilon),\\omega)p(0| [n\\epsilon, T) ,\\omega) = \\sum_{n}e^{-\\omega(n-1)\\epsilon}(\\omega\\epsilon)e^{-\\omega(N-n)\\epsilon} = \\omega T e^{-\\omega T}$\n",
    "\n",
    "\n",
    "\n",
    "By repeating the same procedure, we obtain   p(r|T,$\\omega) = \\frac{(\\omega T)^r e^{-\\omega T}}{r!} = \\frac{\\lambda^r e^{-\\lambda}}{r!}$  .  The **r** arrivals in time interval [0,T) yields a Poisson distribution."
   ]
  },
  {
   "cell_type": "markdown",
   "metadata": {},
   "source": [
    "### Below is the code for  poisson process"
   ]
  },
  {
   "cell_type": "code",
   "execution_count": 27,
   "metadata": {
    "collapsed": false
   },
   "outputs": [
    {
     "data": {
      "image/png": "[encoded data removed]",
      "text/plain": [
       "<matplotlib.figure.Figure at 0x7f43fb356668>"
      ]
     },
     "metadata": {},
     "output_type": "display_data"
    }
   ],
   "source": [
    "%matplotlib inline\n",
    "\n",
    "import random\n",
    "import matplotlib.pyplot as plt\n",
    "import numpy as np\n",
    "\n",
    "def poisson(n,tmax):\n",
    "    lambd= 10\n",
    "    t =[]\n",
    "    y =[]\n",
    "    count =0 \n",
    "    x_add =0\n",
    "    while (x_add<tmax):\n",
    "        y.append(count)   # counts \n",
    "        count = count + 1\n",
    "        x_add = x_add + random.expovariate(lambd)\n",
    "        t.append(x_add)\n",
    "\n",
    "    return [t, y]\n",
    "\n",
    "P = poisson(100,1)\n",
    "\n",
    "plt.step(P[0],P[1],\"b.\")\n",
    "plt.xlabel(\"time T(s)\")\n",
    "plt.ylabel(\"Counts,number of arrivals\")\n",
    "plt.title(r\"Poisson process,  $\\lambda $ = 10\")\n",
    "plt.xlim([0,1.3])\n",
    "plt.grid(True)\n",
    "plt.style.use(\"ggplot\")\n"
   ]
  }
 ],
 "metadata": {
  "kernelspec": {
   "display_name": "Python 3",
   "language": "python",
   "name": "python3"
  },
  "language_info": {
   "codemirror_mode": {
    "name": "ipython",
    "version": 3
   },
   "file_extension": ".py",
   "mimetype": "text/x-python",
   "name": "python",
   "nbconvert_exporter": "python",
   "pygments_lexer": "ipython3",
   "version": "3.5.1"
  }
 },
 "nbformat": 4,
 "nbformat_minor": 0
}
